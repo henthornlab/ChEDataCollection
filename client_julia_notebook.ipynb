{
 "cells": [
  {
   "cell_type": "markdown",
   "id": "532d1d62",
   "metadata": {
    "pycharm": {
     "name": "#%% md\n"
    }
   },
   "source": [
    "![](https://raw.githubusercontent.com/henthornlab/HMIs/master/rhit-logo-wide.png)\n",
    "\n",
    "# **UO Lab Data Access Notebook - Julia Edition**\n",
    "Use this notebook to connect to the UO Lab control system and pull data into Julia dataframes.\n",
    "\n",
    "David Henthorn, Rose-Hulman Institute of Technology, 2022\n"
   ]
  },
  {
   "cell_type": "markdown",
   "id": "2be0e7cd",
   "metadata": {
    "pycharm": {
     "name": "#%% md\n"
    }
   },
   "source": [
    "Requires CSV, DataFrames, and HTTP packages be added to base Julia"
   ]
  },
  {
   "cell_type": "code",
   "execution_count": 11,
   "id": "8ec9435b",
   "metadata": {
    "pycharm": {
     "name": "#%%\n"
    }
   },
   "outputs": [],
   "source": [
    "using CSV, DataFrames, HTTP"
   ]
  },
  {
   "cell_type": "markdown",
   "id": "194fd411",
   "metadata": {
    "pycharm": {
     "name": "#%% md\n"
    }
   },
   "source": [
    "### Please enter the following information in the cell below to retrieve the correct data.\n",
    "### Note: You must be on campus or using the RHIT VPN to access these resources\n",
    "* Enter start and end dates. Dates should be in the YYYY-MM-DD form.\n",
    "* Enter start and end times. Use the 24 hour clock (so 2:00PM is 14:00 and 4:50PM is 16:50).\n",
    "* You may retrieve up to 24 hours of data.\n",
    "* This program returns all historized (recorded) data points associated with a project. You will not need them all.\n",
    "* Area should be the number prefix of your lab area, e.g. Instrumentration and Control is \"400\" and Fluid Flow is \"300\".\n",
    "* Interval is how often to sample the data. Every 30 seconds (\"30s\") is most common, but change if you like."
   ]
  },
  {
   "cell_type": "code",
   "execution_count": 12,
   "id": "96e1527a",
   "metadata": {
    "pycharm": {
     "name": "#%%\n"
    }
   },
   "outputs": [],
   "source": [
    "startdate=\"2022-03-16\";\n",
    "enddate = \"2022-03-16\";\n",
    "starttime=\"14:00\";\n",
    "endtime=\"16:50\";\n",
    "interval=\"30s\";\n",
    "area=\"150\";"
   ]
  },
  {
   "cell_type": "code",
   "execution_count": 13,
   "id": "7187cf8b",
   "metadata": {
    "pycharm": {
     "name": "#%%\n"
    }
   },
   "outputs": [],
   "source": [
    "route = \"http://uolab.rose-hulman.edu:5080/csv?\";\n",
    "URL = route * \"startdate=\" * startdate * \"&enddate=\" * enddate * \"&starttime=\" * starttime\n",
    "URL = URL * \"&endtime=\" * endtime * \"&interval=\" * interval * \"&area=\" * area\n",
    "response = HTTP.get(URL);"
   ]
  },
  {
   "cell_type": "code",
   "execution_count": 14,
   "id": "47df79a1",
   "metadata": {
    "pycharm": {
     "name": "#%%\n"
    }
   },
   "outputs": [],
   "source": [
    "df = CSV.File(response.body) |> DataFrame;"
   ]
  },
  {
   "cell_type": "code",
   "execution_count": null,
   "id": "49a7feb6",
   "metadata": {
    "pycharm": {
     "name": "#%%\n",
     "is_executing": true
    }
   },
   "outputs": [],
   "source": [
    "first(df,4)"
   ]
  },
  {
   "cell_type": "code",
   "execution_count": null,
   "id": "e1bac82d",
   "metadata": {
    "pycharm": {
     "name": "#%%\n"
    }
   },
   "outputs": [],
   "source": []
  }
 ],
 "metadata": {
  "kernelspec": {
   "display_name": "Julia 1.7.2",
   "language": "julia",
   "name": "julia-1.7"
  },
  "language_info": {
   "file_extension": ".jl",
   "mimetype": "application/julia",
   "name": "julia",
   "version": "1.7.2"
  }
 },
 "nbformat": 4,
 "nbformat_minor": 5
}