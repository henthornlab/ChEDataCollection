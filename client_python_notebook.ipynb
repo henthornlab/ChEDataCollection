{
 "cells": [
  {
   "cell_type": "markdown",
   "id": "df17e34a",
   "metadata": {
    "pycharm": {
     "name": "#%% md\n"
    }
   },
   "source": [
    "![](https://raw.githubusercontent.com/henthornlab/HMIs/master/rhit-logo-wide.png)\n",
    "\n",
    "# **UO Lab Data Access Notebook**\n",
    "Use this notebook to connect to the UO Lab control system and pull data into Python data science tools.\n",
    "\n",
    "David Henthorn, Rose-Hulman Institute of Technology, 2022"
   ]
  },
  {
   "cell_type": "markdown",
   "id": "2901b49d",
   "metadata": {
    "pycharm": {
     "name": "#%% md\n"
    }
   },
   "source": [
    "\n",
    "### Please enter the following information in the cell below to retrieve the correct data.\n",
    "### Note: You must be on campus or using the RHIT VPN to access these resources\n",
    "* Enter start and end dates. Dates should be in the YYYY-MM-DD form.\n",
    "* Enter start and end times. Use the 24 hour clock (so 2:00PM is 14:00 and 4:50PM is 16:50).\n",
    "* You may retrieve up to 24 hours of data.\n",
    "* This program returns all historized (recorded) data points associated with a project. You will not need them all.\n",
    "* Area should be the number prefix of your lab area, e.g. Instrumentration and Control is '400' and Fluid Flow is '300'.\n",
    "* Interval is how often to sample the data. For every 30 seconds, choose '30s'. For every minute, choose '1m'."
   ]
  },
  {
   "cell_type": "code",
   "execution_count": 1,
   "id": "f59c91d9",
   "metadata": {
    "pycharm": {
     "name": "#%%\n"
    }
   },
   "outputs": [],
   "source": [
    "# Use YYYY-MM-DD\n",
    "startdate = '2022-03-16'\n",
    "enddate = '2022-03-16'\n",
    "\n",
    "# Use 24 hour clock (e.g. 2:00PM is 14:00). All times are RHIT local.\n",
    "starttime = '14:00'\n",
    "endtime = '16:50'\n",
    "\n",
    "# Which UO Lab area?\n",
    "area = '100'\n",
    "\n",
    "# How often do you want to sample the data? Every 30 seconds = '30s' is most commonly used.\n",
    "interval = '30s'"
   ]
  },
  {
   "cell_type": "code",
   "execution_count": 2,
   "id": "b7bdb0d0",
   "metadata": {
    "pycharm": {
     "name": "#%%\n"
    }
   },
   "outputs": [
    {
     "name": "stdout",
     "output_type": "stream",
     "text": [
      "Success! Returned 341 measurements for 8 digital tags\n"
     ]
    }
   ],
   "source": [
    "import pandas as pd\n",
    "host_url = 'https://uolab.rose-hulman.edu/'\n",
    "route = '/csv?&startdate=' + startdate + '&enddate=' + enddate + '&starttime=' + starttime +'&endtime=' + endtime\n",
    "route += '&interval=' + interval + '&area=' + area\n",
    "\n",
    "df = pd.DataFrame()\n",
    "try:\n",
    "    df = pd.read_csv(host_url+route)\n",
    "except Exception as e:\n",
    "    print('Error retrieving data from ', host_url,  'You must be on campus or using the RHIT VPN.')\n",
    "    print(e)\n",
    "else:\n",
    "    if df.size == 0:\n",
    "        print('Failed to retrieve data. Here is the response.\\n', df)\n",
    "    else:\n",
    "        print('Success! Returned', df.shape[0], 'measurements for', df.shape[1]-1, 'digital tags')"
   ]
  },
  {
   "cell_type": "code",
   "execution_count": 3,
   "outputs": [
    {
     "data": {
      "text/plain": "  Timestamp  DPIC-100A/PID1/GAIN.CV No EngUnits  DPIC-100A/PID1/OUT.CV %  \\\n0  14:00:00                                0.35                99.999046   \n1  14:00:30                                0.35                99.999046   \n2  14:01:00                                0.35                99.999046   \n3  14:01:30                                0.35                99.999046   \n4  14:02:00                                0.35                99.999046   \n\n   DPIC-100A/PID1/PV.CV psid  DPIC-100A/PID1/RESET.CV No EngUnits  \\\n0                   1.267487                                 60.0   \n1                   1.267487                                 60.0   \n2                   1.267487                                 60.0   \n3                   1.267487                                 60.0   \n4                   1.267487                                 60.0   \n\n   DPIC-100A/PID1/SP.CV psid  FIT-100A/PERM_IN/OUT.CV GPM  \\\n0                       25.0                     0.000064   \n1                       25.0                     0.000052   \n2                       25.0                     0.000076   \n3                       25.0                     0.000064   \n4                       25.0                     0.000088   \n\n   PIT-100A/P_INLET/OUT.CV psig  PIT-100B/P_OUTLET/OUT.CV psig  \n0                      1.345417                       0.077449  \n1                      1.345417                       0.077449  \n2                      1.345417                       0.077449  \n3                      1.345417                       0.077449  \n4                      1.345417                       0.077449  ",
      "text/html": "<div>\n<style scoped>\n    .dataframe tbody tr th:only-of-type {\n        vertical-align: middle;\n    }\n\n    .dataframe tbody tr th {\n        vertical-align: top;\n    }\n\n    .dataframe thead th {\n        text-align: right;\n    }\n</style>\n<table border=\"1\" class=\"dataframe\">\n  <thead>\n    <tr style=\"text-align: right;\">\n      <th></th>\n      <th>Timestamp</th>\n      <th>DPIC-100A/PID1/GAIN.CV No EngUnits</th>\n      <th>DPIC-100A/PID1/OUT.CV %</th>\n      <th>DPIC-100A/PID1/PV.CV psid</th>\n      <th>DPIC-100A/PID1/RESET.CV No EngUnits</th>\n      <th>DPIC-100A/PID1/SP.CV psid</th>\n      <th>FIT-100A/PERM_IN/OUT.CV GPM</th>\n      <th>PIT-100A/P_INLET/OUT.CV psig</th>\n      <th>PIT-100B/P_OUTLET/OUT.CV psig</th>\n    </tr>\n  </thead>\n  <tbody>\n    <tr>\n      <th>0</th>\n      <td>14:00:00</td>\n      <td>0.35</td>\n      <td>99.999046</td>\n      <td>1.267487</td>\n      <td>60.0</td>\n      <td>25.0</td>\n      <td>0.000064</td>\n      <td>1.345417</td>\n      <td>0.077449</td>\n    </tr>\n    <tr>\n      <th>1</th>\n      <td>14:00:30</td>\n      <td>0.35</td>\n      <td>99.999046</td>\n      <td>1.267487</td>\n      <td>60.0</td>\n      <td>25.0</td>\n      <td>0.000052</td>\n      <td>1.345417</td>\n      <td>0.077449</td>\n    </tr>\n    <tr>\n      <th>2</th>\n      <td>14:01:00</td>\n      <td>0.35</td>\n      <td>99.999046</td>\n      <td>1.267487</td>\n      <td>60.0</td>\n      <td>25.0</td>\n      <td>0.000076</td>\n      <td>1.345417</td>\n      <td>0.077449</td>\n    </tr>\n    <tr>\n      <th>3</th>\n      <td>14:01:30</td>\n      <td>0.35</td>\n      <td>99.999046</td>\n      <td>1.267487</td>\n      <td>60.0</td>\n      <td>25.0</td>\n      <td>0.000064</td>\n      <td>1.345417</td>\n      <td>0.077449</td>\n    </tr>\n    <tr>\n      <th>4</th>\n      <td>14:02:00</td>\n      <td>0.35</td>\n      <td>99.999046</td>\n      <td>1.267487</td>\n      <td>60.0</td>\n      <td>25.0</td>\n      <td>0.000088</td>\n      <td>1.345417</td>\n      <td>0.077449</td>\n    </tr>\n  </tbody>\n</table>\n</div>"
     },
     "execution_count": 3,
     "metadata": {},
     "output_type": "execute_result"
    }
   ],
   "source": [
    "df.head()"
   ],
   "metadata": {
    "collapsed": false,
    "pycharm": {
     "name": "#%%\n"
    }
   }
  }
 ],
 "metadata": {
  "kernelspec": {
   "display_name": "Python 3.9.7 ('base')",
   "language": "python",
   "name": "python3"
  },
  "language_info": {
   "codemirror_mode": {
    "name": "ipython",
    "version": 3
   },
   "file_extension": ".py",
   "mimetype": "text/x-python",
   "name": "python",
   "nbconvert_exporter": "python",
   "pygments_lexer": "ipython3",
   "version": "3.9.7"
  },
  "vscode": {
   "interpreter": {
    "hash": "676b6fff394f1f00bc7d512ca0c5514a3d8ca082adbf193c9a89fd16d1c1de8f"
   }
  }
 },
 "nbformat": 4,
 "nbformat_minor": 5
}
