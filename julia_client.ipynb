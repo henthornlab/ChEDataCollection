{
 "cells": [
  {
   "cell_type": "markdown",
   "id": "532d1d62",
   "metadata": {},
   "source": [
    "![](https://raw.githubusercontent.com/henthornlab/HMIs/master/rhit-logo-wide.png)\n",
    "\n",
    "# **UO Lab Data Access Notebook - Julia Edition**\n",
    "Use this notebook to connect to the UO Lab control system and pull data into Julia dataframes.\n",
    "\n",
    "David Henthorn, Rose-Hulman Institute of Technology, 2022\n"
   ]
  },
  {
   "cell_type": "markdown",
   "id": "2be0e7cd",
   "metadata": {},
   "source": [
    "Requires CSV, DataFrames, and HTTP packages be added to base Julia"
   ]
  },
  {
   "cell_type": "code",
   "execution_count": 11,
   "id": "8ec9435b",
   "metadata": {},
   "outputs": [],
   "source": [
    "using CSV, DataFrames, HTTP"
   ]
  },
  {
   "cell_type": "markdown",
   "id": "194fd411",
   "metadata": {},
   "source": [
    "### Please enter the following information in the cell below to retrieve the correct data.\n",
    "### Note: You must be on campus or using the RHIT VPN to access these resources\n",
    "* Enter start and end dates. Dates should be in the YYYY-MM-DD form.\n",
    "* Enter start and end times. Use the 24 hour clock (so 2:00PM is 14:00 and 4:50PM is 16:50).\n",
    "* You may retrieve up to 24 hours of data.\n",
    "* This program returns all historized (recorded) data points associated with a project. You will not need them all.\n",
    "* Area should be the number prefix of your lab area, e.g. Instrumentration and Control is \"400\" and Fluid Flow is \"300\".\n",
    "* Interval is how often to sample the data. For every 30 seconds, choose \"30s\". For every minute, choose \"1m\"."
   ]
  },
  {
   "cell_type": "code",
   "execution_count": 12,
   "id": "96e1527a",
   "metadata": {},
   "outputs": [],
   "source": [
    "route = \"http://uolab.rose-hulman.edu:5080/csv?\";\n",
    "startdate=\"2022-03-16\";\n",
    "enddate = \"2022-03-16\";\n",
    "starttime=\"14:00\";\n",
    "endtime=\"16:50\";\n",
    "interval=\"30s\";\n",
    "area=\"150\";"
   ]
  },
  {
   "cell_type": "code",
   "execution_count": 13,
   "id": "7187cf8b",
   "metadata": {},
   "outputs": [],
   "source": [
    "URL = route * \"startdate=\" * startdate * \"&enddate=\" * enddate * \"&starttime=\" * starttime\n",
    "URL = URL * \"&endtime=\" * endtime * \"&interval=\" * interval * \"&area=\" * area\n",
    "response = HTTP.get(URL);"
   ]
  },
  {
   "cell_type": "code",
   "execution_count": 14,
   "id": "47df79a1",
   "metadata": {},
   "outputs": [],
   "source": [
    "df = CSV.File(response.body) |> DataFrame;"
   ]
  },
  {
   "cell_type": "code",
   "execution_count": 15,
   "id": "49a7feb6",
   "metadata": {},
   "outputs": [
    {
     "data": {
      "text/html": [
       "<div class=\"data-frame\"><p>4 rows × 26 columns (omitted printing of 23 columns)</p><table class=\"data-frame\"><thead><tr><th></th><th>Timestamp</th><th>150_MEANPCROSS/150-MEANMEMP/OUT.CV No EngUnits</th><th>150_MEANPCROSS/150-TRANSP_PSI/OUT.CV No EngUnits</th></tr><tr><th></th><th title=\"Dates.Time\">Time</th><th title=\"Float64\">Float64</th><th title=\"Float64\">Float64</th></tr></thead><tbody><tr><th>1</th><td>14:00:00</td><td>0.500885</td><td>0.283329</td></tr><tr><th>2</th><td>14:00:30</td><td>0.500793</td><td>0.283181</td></tr><tr><th>3</th><td>14:01:00</td><td>0.500701</td><td>0.283034</td></tr><tr><th>4</th><td>14:01:30</td><td>0.50061</td><td>0.282887</td></tr></tbody></table></div>"
      ],
      "text/latex": [
       "\\begin{tabular}{r|cccc}\n",
       "\t& Timestamp & 150\\_MEANPCROSS/150-MEANMEMP/OUT.CV No EngUnits & 150\\_MEANPCROSS/150-TRANSP\\_PSI/OUT.CV No EngUnits & \\\\\n",
       "\t\\hline\n",
       "\t& Time & Float64 & Float64 & \\\\\n",
       "\t\\hline\n",
       "\t1 & 14:00:00 & 0.500885 & 0.283329 & $\\dots$ \\\\\n",
       "\t2 & 14:00:30 & 0.500793 & 0.283181 & $\\dots$ \\\\\n",
       "\t3 & 14:01:00 & 0.500701 & 0.283034 & $\\dots$ \\\\\n",
       "\t4 & 14:01:30 & 0.50061 & 0.282887 & $\\dots$ \\\\\n",
       "\\end{tabular}\n"
      ],
      "text/plain": [
       "\u001b[1m4×26 DataFrame\u001b[0m\n",
       "\u001b[1m Row \u001b[0m│\u001b[1m Timestamp \u001b[0m\u001b[1m 150_MEANPCROSS/150-MEANMEMP/OUT.CV No EngUnits \u001b[0m\u001b[1m 150_MEANPCRO\u001b[0m ⋯\n",
       "\u001b[1m     \u001b[0m│\u001b[90m Time      \u001b[0m\u001b[90m Float64                                        \u001b[0m\u001b[90m Float64     \u001b[0m ⋯\n",
       "─────┼──────────────────────────────────────────────────────────────────────────\n",
       "   1 │ 14:00:00                                         0.500885               ⋯\n",
       "   2 │ 14:00:30                                         0.500793\n",
       "   3 │ 14:01:00                                         0.500701\n",
       "   4 │ 14:01:30                                         0.50061\n",
       "\u001b[36m                                                              24 columns omitted\u001b[0m"
      ]
     },
     "execution_count": 15,
     "metadata": {},
     "output_type": "execute_result"
    }
   ],
   "source": [
    "first(df,4)"
   ]
  },
  {
   "cell_type": "code",
   "execution_count": null,
   "id": "e1bac82d",
   "metadata": {},
   "outputs": [],
   "source": []
  }
 ],
 "metadata": {
  "kernelspec": {
   "display_name": "Julia 1.7.2",
   "language": "julia",
   "name": "julia-1.7"
  },
  "language_info": {
   "file_extension": ".jl",
   "mimetype": "application/julia",
   "name": "julia",
   "version": "1.7.2"
  }
 },
 "nbformat": 4,
 "nbformat_minor": 5
}
