{
 "cells": [
  {
   "cell_type": "markdown",
   "id": "df17e34a",
   "metadata": {},
   "source": [
    "![](https://raw.githubusercontent.com/henthornlab/HMIs/master/rhit-logo-wide.png)\n",
    "\n",
    "# **UO Lab Data Access Notebook**\n",
    "Use this notebook to connect to the UO Lab control system and pull data into Python data science tools.\n",
    "\n",
    "David Henthorn, Rose-Hulman Institute of Technology, 2022"
   ]
  },
  {
   "cell_type": "markdown",
   "id": "2901b49d",
   "metadata": {},
   "source": [
    "\n",
    "### Please enter the following information in the cell below to retrieve the correct data.\n",
    "### Note: You must be on campus or using the RHIT VPN to access these resources\n",
    "* Enter start and end dates. Dates should be in the YYYY-MM-DD form\n",
    "* Enter start and end times. Use the 24 hour clock (so 2:00PM is 14:00 and 4:50PM is 16:50)\n",
    "* You may retrieve up to 24 hours of data\n",
    "* Area should be the number prefix of your lab area, e.g. Instrumentration and Control is '400' and Fluid Flow is '300'\n",
    "* Interval is how often to sample the data. For every 30 seconds, choose '30s'. For every minute, choose '1m'."
   ]
  },
  {
   "cell_type": "code",
   "execution_count": 3,
   "id": "f59c91d9",
   "metadata": {},
   "outputs": [],
   "source": [
    "# Use YYYY-MM-DD\n",
    "startdate = '2022-03-16'\n",
    "enddate = '2022-03-16'\n",
    "\n",
    "#Use 24 hour clock (e.g. 2:00PM is 14:00)\n",
    "starttime = '14:00'\n",
    "endtime = '16:50'\n",
    "\n",
    "# Which UO Lab area?\n",
    "area = '150'\n",
    "\n",
    "# How often do you want to sample the data? Every 30 seconds = '30s' is most commonly used.\n",
    "interval = '30s'"
   ]
  },
  {
   "cell_type": "code",
   "execution_count": 4,
   "id": "b7bdb0d0",
   "metadata": {},
   "outputs": [
    {
     "name": "stdout",
     "output_type": "stream",
     "text": [
      "Failed to retrieve data. Here is the response.\n"
     ]
    },
    {
     "data": {
      "text/html": [
       "<div>\n",
       "<style scoped>\n",
       "    .dataframe tbody tr th:only-of-type {\n",
       "        vertical-align: middle;\n",
       "    }\n",
       "\n",
       "    .dataframe tbody tr th {\n",
       "        vertical-align: top;\n",
       "    }\n",
       "\n",
       "    .dataframe thead th {\n",
       "        text-align: right;\n",
       "    }\n",
       "</style>\n",
       "<table border=\"1\" class=\"dataframe\">\n",
       "  <thead>\n",
       "    <tr style=\"text-align: right;\">\n",
       "      <th></th>\n",
       "      <th>The request contained the following error(s): Area 15 does not exist.</th>\n",
       "    </tr>\n",
       "  </thead>\n",
       "  <tbody>\n",
       "  </tbody>\n",
       "</table>\n",
       "</div>"
      ],
      "text/plain": [
       "Empty DataFrame\n",
       "Columns: [The request contained the following error(s): Area 15 does not exist.]\n",
       "Index: []"
      ]
     },
     "execution_count": 4,
     "metadata": {},
     "output_type": "execute_result"
    }
   ],
   "source": [
    "import pandas as pd\n",
    "host_url = 'http://192.168.100.58:5000'\n",
    "route = '/csv?&startdate=' + startdate + '&enddate=' + enddate + '&starttime=' + starttime +'&endtime=' + endtime\n",
    "route += '&interval=' + interval + '&area=' + area\n",
    "\n",
    "try:\n",
    "    df = pd.read_csv(host_url+route)\n",
    "except:\n",
    "    print('A connection error occurred. Be sure to check that you are on campus or using the VPN.')\n",
    "\n",
    "if df.size == 0:\n",
    "    print('Failed to retrieve data. Here is the response.')\n",
    "\n",
    "df.head()"
   ]
  },
  {
   "cell_type": "code",
   "execution_count": null,
   "id": "f89141b0",
   "metadata": {},
   "outputs": [],
   "source": []
  }
 ],
 "metadata": {
  "kernelspec": {
   "display_name": "Python 3.9.7 ('base')",
   "language": "python",
   "name": "python3"
  },
  "language_info": {
   "codemirror_mode": {
    "name": "ipython",
    "version": 3
   },
   "file_extension": ".py",
   "mimetype": "text/x-python",
   "name": "python",
   "nbconvert_exporter": "python",
   "pygments_lexer": "ipython3",
   "version": "3.9.7"
  },
  "vscode": {
   "interpreter": {
    "hash": "676b6fff394f1f00bc7d512ca0c5514a3d8ca082adbf193c9a89fd16d1c1de8f"
   }
  }
 },
 "nbformat": 4,
 "nbformat_minor": 5
}
